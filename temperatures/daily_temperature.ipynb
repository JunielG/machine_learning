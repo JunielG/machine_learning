{
 "cells": [
  {
   "cell_type": "code",
   "execution_count": 1,
   "id": "ab9f9253-0156-4a2d-8561-11eb8d6b1a26",
   "metadata": {},
   "outputs": [
    {
     "data": {
      "text/html": [
       "<style type='text/css'>\n",
       ".datatable table.frame { margin-bottom: 0; }\n",
       ".datatable table.frame thead { border-bottom: none; }\n",
       ".datatable table.frame tr.coltypes td {  color: #FFFFFF;  line-height: 6px;  padding: 0 0.5em;}\n",
       ".datatable .bool    { background: #DDDD99; }\n",
       ".datatable .object  { background: #565656; }\n",
       ".datatable .int     { background: #5D9E5D; }\n",
       ".datatable .float   { background: #4040CC; }\n",
       ".datatable .str     { background: #CC4040; }\n",
       ".datatable .time    { background: #40CC40; }\n",
       ".datatable .row_index {  background: var(--jp-border-color3);  border-right: 1px solid var(--jp-border-color0);  color: var(--jp-ui-font-color3);  font-size: 9px;}\n",
       ".datatable .frame tbody td { text-align: left; }\n",
       ".datatable .frame tr.coltypes .row_index {  background: var(--jp-border-color0);}\n",
       ".datatable th:nth-child(2) { padding-left: 12px; }\n",
       ".datatable .hellipsis {  color: var(--jp-cell-editor-border-color);}\n",
       ".datatable .vellipsis {  background: var(--jp-layout-color0);  color: var(--jp-cell-editor-border-color);}\n",
       ".datatable .na {  color: var(--jp-cell-editor-border-color);  font-size: 80%;}\n",
       ".datatable .sp {  opacity: 0.25;}\n",
       ".datatable .footer { font-size: 9px; }\n",
       ".datatable .frame_dimensions {  background: var(--jp-border-color3);  border-top: 1px solid var(--jp-border-color0);  color: var(--jp-ui-font-color3);  display: inline-block;  opacity: 0.6;  padding: 1px 10px 1px 5px;}\n",
       "</style>\n"
      ],
      "text/plain": [
       "<IPython.core.display.HTML object>"
      ]
     },
     "metadata": {},
     "output_type": "display_data"
    }
   ],
   "source": [
    "# Regression Models\n",
    "%matplotlib inline\n",
    "#%matplotlib widget\n",
    "import numpy as np\n",
    "import pandas as pd\n",
    "import seaborn as sns\n",
    "from sklearn.svm import SVR\n",
    "from collections import Counter\n",
    "from lightgbm import LGBMRegressor\n",
    "from matplotlib import pyplot as plt\n",
    "from sklearn.pipeline import Pipeline\n",
    "from sklearn.linear_model import SGDRegressor\n",
    "from sklearn.compose import ColumnTransformer\n",
    "from sklearn.tree import DecisionTreeRegressor\n",
    "from xgboost import XGBRegressor, XGBRFRegressor\n",
    "from sklearn.neighbors import KNeighborsRegressor, KNeighborsTransformer\n",
    "from sklearn.linear_model import LinearRegression, Lasso, Ridge, ElasticNet\n",
    "from sklearn.ensemble import (AdaBoostRegressor, BaggingRegressor, GradientBoostingRegressor,\n",
    "RandomForestRegressor, VotingRegressor, HistGradientBoostingRegressor, ExtraTreesRegressor, StackingRegressor)\n",
    "\n",
    "# Preprocessing\n",
    "from sklearn.feature_selection import SelectKBest, f_regression, RFE, RFECV\n",
    "from sklearn.preprocessing import LabelEncoder, StandardScaler ,OneHotEncoder, MinMaxScaler, PolynomialFeatures\n",
    "\n",
    "# model_selection\n",
    "from sklearn.model_selection import (train_test_split, KFold, cross_val_score, GridSearchCV, StratifiedKFold, \n",
    "learning_curve, cross_val_predict, cross_validate, permutation_test_score, validation_curve, RandomizedSearchCV)\n",
    "\n",
    "# Metrics\n",
    "from sklearn.metrics import (accuracy_score, cohen_kappa_score, confusion_matrix, mean_squared_error, r2_score,\n",
    "root_mean_squared_error, recall_score, roc_auc_score, roc_curve, mean_absolute_error, auc, classification_report, f1_score)\n",
    "\n",
    "#pd.set_option('display.max_rows', 500)\n",
    "pd.set_option('display.max_columns', 500)\n",
    "pd.set_option('display.width', 1000) "
   ]
  },
  {
   "cell_type": "code",
   "execution_count": 2,
   "id": "443acb2a-d4f2-4a78-8533-1cb89f66e2c9",
   "metadata": {},
   "outputs": [],
   "source": [
    "dmax = pd.read_csv('daily-max-temperatures.csv')\n",
    "dmin = pd.read_csv('daily-min-temperatures.csv')"
   ]
  },
  {
   "cell_type": "code",
   "execution_count": 3,
   "id": "948a71f8-cbad-4791-bfe0-5a4f468bdebf",
   "metadata": {},
   "outputs": [
    {
     "data": {
      "text/html": [
       "<div>\n",
       "<style scoped>\n",
       "    .dataframe tbody tr th:only-of-type {\n",
       "        vertical-align: middle;\n",
       "    }\n",
       "\n",
       "    .dataframe tbody tr th {\n",
       "        vertical-align: top;\n",
       "    }\n",
       "\n",
       "    .dataframe thead th {\n",
       "        text-align: right;\n",
       "    }\n",
       "</style>\n",
       "<table border=\"1\" class=\"dataframe\">\n",
       "  <thead>\n",
       "    <tr style=\"text-align: right;\">\n",
       "      <th></th>\n",
       "      <th>Date</th>\n",
       "      <th>Temperature</th>\n",
       "    </tr>\n",
       "  </thead>\n",
       "  <tbody>\n",
       "    <tr>\n",
       "      <th>0</th>\n",
       "      <td>1981-01-01</td>\n",
       "      <td>38.1</td>\n",
       "    </tr>\n",
       "    <tr>\n",
       "      <th>1</th>\n",
       "      <td>1981-01-02</td>\n",
       "      <td>32.4</td>\n",
       "    </tr>\n",
       "    <tr>\n",
       "      <th>2</th>\n",
       "      <td>1981-01-03</td>\n",
       "      <td>34.5</td>\n",
       "    </tr>\n",
       "  </tbody>\n",
       "</table>\n",
       "</div>"
      ],
      "text/plain": [
       "         Date  Temperature\n",
       "0  1981-01-01         38.1\n",
       "1  1981-01-02         32.4\n",
       "2  1981-01-03         34.5"
      ]
     },
     "execution_count": 3,
     "metadata": {},
     "output_type": "execute_result"
    }
   ],
   "source": [
    "dmax.head(3)"
   ]
  },
  {
   "cell_type": "code",
   "execution_count": 4,
   "id": "2f8c8651-2da0-4f69-b11c-9e6b5d1c9084",
   "metadata": {},
   "outputs": [
    {
     "data": {
      "text/html": [
       "<div>\n",
       "<style scoped>\n",
       "    .dataframe tbody tr th:only-of-type {\n",
       "        vertical-align: middle;\n",
       "    }\n",
       "\n",
       "    .dataframe tbody tr th {\n",
       "        vertical-align: top;\n",
       "    }\n",
       "\n",
       "    .dataframe thead th {\n",
       "        text-align: right;\n",
       "    }\n",
       "</style>\n",
       "<table border=\"1\" class=\"dataframe\">\n",
       "  <thead>\n",
       "    <tr style=\"text-align: right;\">\n",
       "      <th></th>\n",
       "      <th>Date</th>\n",
       "      <th>Temp</th>\n",
       "    </tr>\n",
       "  </thead>\n",
       "  <tbody>\n",
       "    <tr>\n",
       "      <th>0</th>\n",
       "      <td>1981-01-01</td>\n",
       "      <td>20.7</td>\n",
       "    </tr>\n",
       "    <tr>\n",
       "      <th>1</th>\n",
       "      <td>1981-01-02</td>\n",
       "      <td>17.9</td>\n",
       "    </tr>\n",
       "    <tr>\n",
       "      <th>2</th>\n",
       "      <td>1981-01-03</td>\n",
       "      <td>18.8</td>\n",
       "    </tr>\n",
       "    <tr>\n",
       "      <th>3</th>\n",
       "      <td>1981-01-04</td>\n",
       "      <td>14.6</td>\n",
       "    </tr>\n",
       "    <tr>\n",
       "      <th>4</th>\n",
       "      <td>1981-01-05</td>\n",
       "      <td>15.8</td>\n",
       "    </tr>\n",
       "  </tbody>\n",
       "</table>\n",
       "</div>"
      ],
      "text/plain": [
       "         Date  Temp\n",
       "0  1981-01-01  20.7\n",
       "1  1981-01-02  17.9\n",
       "2  1981-01-03  18.8\n",
       "3  1981-01-04  14.6\n",
       "4  1981-01-05  15.8"
      ]
     },
     "execution_count": 4,
     "metadata": {},
     "output_type": "execute_result"
    }
   ],
   "source": [
    "dmin.head()"
   ]
  },
  {
   "cell_type": "code",
   "execution_count": 5,
   "id": "7b1e865d-2188-4de7-b32c-135eec92b0bf",
   "metadata": {},
   "outputs": [],
   "source": [
    "# Merge both dataframes\n",
    "df = pd.merge(dmax, dmin, how='left', left_on='Date', right_on='Date')"
   ]
  },
  {
   "cell_type": "code",
   "execution_count": 6,
   "id": "9f314d62-03e3-40e1-8141-0e3f5e467702",
   "metadata": {},
   "outputs": [],
   "source": [
    "# Lowering columns\n",
    "df.columns = df.columns.str.lower() "
   ]
  },
  {
   "cell_type": "code",
   "execution_count": 7,
   "id": "8d06da1b-42d8-45bc-a657-19f8204bc599",
   "metadata": {},
   "outputs": [],
   "source": [
    "# Rename columns\n",
    "df.rename(columns={'temp':'min_temp', 'temperature':'max_temp'}, inplace=True) "
   ]
  },
  {
   "cell_type": "code",
   "execution_count": 8,
   "id": "fe7595ae-7d48-4182-b324-da7057ff078d",
   "metadata": {
    "scrolled": true
   },
   "outputs": [],
   "source": [
    "# shift column to any position \n",
    "first_column = df.pop('min_temp')\n",
    "\n",
    "# Moving the column to the position you want\n",
    "df.insert(1, 'min_temp', first_column)"
   ]
  },
  {
   "cell_type": "code",
   "execution_count": 9,
   "id": "1e6851cc-5147-4504-9670-3c91b579cfe7",
   "metadata": {},
   "outputs": [
    {
     "name": "stdout",
     "output_type": "stream",
     "text": [
      "Big Query Statistics:\n",
      "-------------------------------------------------------------------------------------------------------------------------------\n",
      "🚣‍♀️ DataFrame Shape: (3650, 3)\n",
      "-------------------------------------------------------------------------------------------------------------------------------\n",
      "Columns to list:\n",
      "['date', 'min_temp', 'max_temp']\n",
      "-------------------------------------------------------------------------------------------------------------------------------\n",
      "<class 'pandas.core.frame.DataFrame'>\n",
      "RangeIndex: 3650 entries, 0 to 3649\n",
      "Data columns (total 3 columns):\n",
      " #   Column    Non-Null Count  Dtype  \n",
      "---  ------    --------------  -----  \n",
      " 0   date      3650 non-null   object \n",
      " 1   min_temp  3650 non-null   float64\n",
      " 2   max_temp  3650 non-null   float64\n",
      "dtypes: float64(2), object(1)\n",
      "memory usage: 296.0 KB\n",
      "📊 DataFrame Info: None\n",
      "-------------------------------------------------------------------------------------------------------------------------------\n",
      "📈 DataFrame Distribution:\n",
      "           min_temp     max_temp\n",
      "count  3650.000000  3650.000000\n",
      "mean     11.177753    20.009151\n",
      "std       4.071837     6.108353\n",
      "min       0.000000     7.000000\n",
      "25%       8.300000    15.400000\n",
      "50%      11.000000    18.900000\n",
      "75%      14.000000    23.000000\n",
      "max      26.300000    43.300000\n"
     ]
    }
   ],
   "source": [
    "# Data Integrity Check\n",
    "print(\"Big Query Statistics:\")\n",
    "print('-' * 127)\n",
    "print(f\"🚣‍♀️ DataFrame Shape: {df.shape}\")\n",
    "print('-' * 127)\n",
    "print(f\"Columns to list:\\n{df.columns.tolist()}\")\n",
    "print('-' * 127)\n",
    "print(f\"📊 DataFrame Info: {df.info(memory_usage='deep')}\")\n",
    "print('-' * 127)\n",
    "print(f\"📈 DataFrame Distribution:\\n {df.describe()}\")"
   ]
  },
  {
   "cell_type": "code",
   "execution_count": 10,
   "id": "ce4552f0-095f-469b-a0e7-ef163788899e",
   "metadata": {},
   "outputs": [],
   "source": [
    "# Change the date to datetime format \n",
    "df['date'] = pd.to_datetime(df['date'])"
   ]
  },
  {
   "cell_type": "code",
   "execution_count": 11,
   "id": "eace23b3-87ee-49db-8811-656175345fe0",
   "metadata": {},
   "outputs": [
    {
     "name": "stdout",
     "output_type": "stream",
     "text": [
      "<class 'pandas.core.frame.DataFrame'>\n",
      "RangeIndex: 3650 entries, 0 to 3649\n",
      "Data columns (total 3 columns):\n",
      " #   Column    Non-Null Count  Dtype         \n",
      "---  ------    --------------  -----         \n",
      " 0   date      3650 non-null   datetime64[ns]\n",
      " 1   min_temp  3650 non-null   float64       \n",
      " 2   max_temp  3650 non-null   float64       \n",
      "dtypes: datetime64[ns](1), float64(2)\n",
      "memory usage: 85.7 KB\n",
      "📊 DataFrame Info: None\n"
     ]
    }
   ],
   "source": [
    "print(f\"📊 DataFrame Info: {df.info(memory_usage='deep')}\")"
   ]
  },
  {
   "cell_type": "code",
   "execution_count": 12,
   "id": "5cf5637f-c7d8-48b8-8d53-b3593215ff3a",
   "metadata": {},
   "outputs": [
    {
     "name": "stdout",
     "output_type": "stream",
     "text": [
      "✅ No missing data for df:\n",
      "date        0\n",
      "min_temp    0\n",
      "max_temp    0\n",
      "dtype: int64\n"
     ]
    }
   ],
   "source": [
    "missing_values = df.isna().sum()\n",
    "\n",
    "if len(missing_values) < 0:\n",
    "    print(\"❌ Missing data for following columns:\")\n",
    "else:\n",
    "    print(f\"✅ No missing data for df:\\n{missing_values}\") "
   ]
  },
  {
   "cell_type": "code",
   "execution_count": 47,
   "id": "2c0f1a9a-eb82-4224-84c8-a543f75aa27a",
   "metadata": {},
   "outputs": [],
   "source": [
    "#df[df['date'].dt.year == 1981]"
   ]
  },
  {
   "cell_type": "code",
   "execution_count": 13,
   "id": "3f9eebe0-57c4-4bbd-9821-af41af3a7cd3",
   "metadata": {
    "scrolled": true
   },
   "outputs": [
    {
     "name": "stdout",
     "output_type": "stream",
     "text": [
      "===============================================================================================================================\n",
      "min_temp\n",
      "10.0    51\n",
      "11.0    51\n",
      "13.0    48\n",
      "12.5    44\n",
      "10.5    44\n",
      "        ..\n",
      "0.2      1\n",
      "24.0     1\n",
      "25.2     1\n",
      "22.7     1\n",
      "21.6     1\n",
      "Name: count, Length: 229, dtype: int64\n",
      "===============================================================================================================================\n",
      "max_temp\n",
      "18.5    42\n",
      "16.0    41\n",
      "15.0    40\n",
      "19.0    39\n",
      "14.0    36\n",
      "        ..\n",
      "35.6     1\n",
      "39.4     1\n",
      "38.2     1\n",
      "43.0     1\n",
      "37.6     1\n",
      "Name: count, Length: 309, dtype: int64\n"
     ]
    }
   ],
   "source": [
    "# Value_counts - Unique\n",
    "float1 = df.select_dtypes(include=['float'])\n",
    "for col in float1.columns:\n",
    "    #print(f\"\\n{col}:\")\n",
    "    print(f\"{'='*127}\")\n",
    "    print(df[col].value_counts())"
   ]
  },
  {
   "cell_type": "code",
   "execution_count": 14,
   "id": "1400afa1-d13a-41d4-bd14-62cc24322218",
   "metadata": {},
   "outputs": [],
   "source": [
    "# Date column engineering \n",
    "df['year'] = df['date'].dt.year\n",
    "df['month'] = df['date'].dt.month\n",
    "df['day'] = df['date'].dt.day"
   ]
  },
  {
   "cell_type": "code",
   "execution_count": 15,
   "id": "7bda92a2-6b8e-4b4b-92bf-8af5ea27e1fc",
   "metadata": {},
   "outputs": [],
   "source": [
    "# mapping month column \n",
    "m_map = {1:'january', 2:'febraury', 3:'march', 4:'april', 5:'may', 6:'june', 7:'july',\n",
    "      8:'august', 9:'september', 10:'october', 11:'november', 12:'december'}\n",
    "\n",
    "df['month'] = df['month'].map(m_map)"
   ]
  },
  {
   "cell_type": "code",
   "execution_count": 16,
   "id": "6df38231-ec72-4697-8eea-de1e560785bd",
   "metadata": {},
   "outputs": [],
   "source": [
    "# drop date column \n",
    "df.drop('date', axis=1, inplace=True)"
   ]
  },
  {
   "cell_type": "code",
   "execution_count": 17,
   "id": "545c7417-2a56-44af-a742-66e62b67eaa5",
   "metadata": {},
   "outputs": [],
   "source": [
    "# shift column to any position \n",
    "y = df.pop('year')\n",
    "m = df.pop('month')\n",
    "d = df.pop('day') \n",
    "\n",
    "# Moving the column to the position you want\n",
    "df.insert(0, 'year', y)\n",
    "df.insert(1, 'month', m)\n",
    "df.insert(2, 'day', d)"
   ]
  },
  {
   "cell_type": "code",
   "execution_count": 18,
   "id": "61618b70-cc58-4fa6-a6d8-6479a946f708",
   "metadata": {},
   "outputs": [],
   "source": [
    "# Group by multiple columns\n",
    "min_temp_by_year_and_month = df.groupby(['year', 'month'])[['min_temp']]\\\n",
    "    .min().sort_values(by='min_temp', ascending=True)  \n",
    "\n",
    "max_temp_by_year_and_month = df.groupby(['year', 'month'])[['max_temp']]\\\n",
    "    .max().sort_values(by='max_temp', ascending=False)  "
   ]
  },
  {
   "cell_type": "code",
   "execution_count": 19,
   "id": "14dc7969-6f32-48fd-be8c-650219f18898",
   "metadata": {},
   "outputs": [
    {
     "data": {
      "text/html": [
       "<div>\n",
       "<style scoped>\n",
       "    .dataframe tbody tr th:only-of-type {\n",
       "        vertical-align: middle;\n",
       "    }\n",
       "\n",
       "    .dataframe tbody tr th {\n",
       "        vertical-align: top;\n",
       "    }\n",
       "\n",
       "    .dataframe thead th {\n",
       "        text-align: right;\n",
       "    }\n",
       "</style>\n",
       "<table border=\"1\" class=\"dataframe\">\n",
       "  <thead>\n",
       "    <tr style=\"text-align: right;\">\n",
       "      <th></th>\n",
       "      <th></th>\n",
       "      <th>min_temp</th>\n",
       "    </tr>\n",
       "    <tr>\n",
       "      <th>year</th>\n",
       "      <th>month</th>\n",
       "      <th></th>\n",
       "    </tr>\n",
       "  </thead>\n",
       "  <tbody>\n",
       "    <tr>\n",
       "      <th>1982</th>\n",
       "      <th>june</th>\n",
       "      <td>0.0</td>\n",
       "    </tr>\n",
       "    <tr>\n",
       "      <th>1983</th>\n",
       "      <th>july</th>\n",
       "      <td>0.0</td>\n",
       "    </tr>\n",
       "    <tr>\n",
       "      <th>1984</th>\n",
       "      <th>july</th>\n",
       "      <td>0.1</td>\n",
       "    </tr>\n",
       "    <tr>\n",
       "      <th>1982</th>\n",
       "      <th>july</th>\n",
       "      <td>0.2</td>\n",
       "    </tr>\n",
       "    <tr>\n",
       "      <th>1985</th>\n",
       "      <th>july</th>\n",
       "      <td>0.3</td>\n",
       "    </tr>\n",
       "    <tr>\n",
       "      <th>...</th>\n",
       "      <th>...</th>\n",
       "      <td>...</td>\n",
       "    </tr>\n",
       "    <tr>\n",
       "      <th>1981</th>\n",
       "      <th>january</th>\n",
       "      <td>12.1</td>\n",
       "    </tr>\n",
       "    <tr>\n",
       "      <th>1982</th>\n",
       "      <th>january</th>\n",
       "      <td>12.5</td>\n",
       "    </tr>\n",
       "    <tr>\n",
       "      <th>1983</th>\n",
       "      <th>febraury</th>\n",
       "      <td>12.8</td>\n",
       "    </tr>\n",
       "    <tr>\n",
       "      <th>1989</th>\n",
       "      <th>febraury</th>\n",
       "      <td>13.0</td>\n",
       "    </tr>\n",
       "    <tr>\n",
       "      <th>1981</th>\n",
       "      <th>febraury</th>\n",
       "      <td>13.7</td>\n",
       "    </tr>\n",
       "  </tbody>\n",
       "</table>\n",
       "<p>120 rows × 1 columns</p>\n",
       "</div>"
      ],
      "text/plain": [
       "               min_temp\n",
       "year month             \n",
       "1982 june           0.0\n",
       "1983 july           0.0\n",
       "1984 july           0.1\n",
       "1982 july           0.2\n",
       "1985 july           0.3\n",
       "...                 ...\n",
       "1981 january       12.1\n",
       "1982 january       12.5\n",
       "1983 febraury      12.8\n",
       "1989 febraury      13.0\n",
       "1981 febraury      13.7\n",
       "\n",
       "[120 rows x 1 columns]"
      ]
     },
     "execution_count": 19,
     "metadata": {},
     "output_type": "execute_result"
    }
   ],
   "source": [
    "min_temp_by_year_and_month"
   ]
  },
  {
   "cell_type": "code",
   "execution_count": 20,
   "id": "e953c615-f2b1-44a1-8f63-e72dc18ce267",
   "metadata": {},
   "outputs": [
    {
     "data": {
      "text/html": [
       "<div>\n",
       "<style scoped>\n",
       "    .dataframe tbody tr th:only-of-type {\n",
       "        vertical-align: middle;\n",
       "    }\n",
       "\n",
       "    .dataframe tbody tr th {\n",
       "        vertical-align: top;\n",
       "    }\n",
       "\n",
       "    .dataframe thead th {\n",
       "        text-align: right;\n",
       "    }\n",
       "</style>\n",
       "<table border=\"1\" class=\"dataframe\">\n",
       "  <thead>\n",
       "    <tr style=\"text-align: right;\">\n",
       "      <th></th>\n",
       "      <th></th>\n",
       "      <th>max_temp</th>\n",
       "    </tr>\n",
       "    <tr>\n",
       "      <th>year</th>\n",
       "      <th>month</th>\n",
       "      <th></th>\n",
       "    </tr>\n",
       "  </thead>\n",
       "  <tbody>\n",
       "    <tr>\n",
       "      <th>1982</th>\n",
       "      <th>january</th>\n",
       "      <td>43.3</td>\n",
       "    </tr>\n",
       "    <tr>\n",
       "      <th>1983</th>\n",
       "      <th>febraury</th>\n",
       "      <td>43.2</td>\n",
       "    </tr>\n",
       "    <tr>\n",
       "      <th>1985</th>\n",
       "      <th>january</th>\n",
       "      <td>42.2</td>\n",
       "    </tr>\n",
       "    <tr>\n",
       "      <th>1981</th>\n",
       "      <th>january</th>\n",
       "      <td>41.8</td>\n",
       "    </tr>\n",
       "    <tr>\n",
       "      <th>1988</th>\n",
       "      <th>january</th>\n",
       "      <td>40.4</td>\n",
       "    </tr>\n",
       "    <tr>\n",
       "      <th>...</th>\n",
       "      <th>...</th>\n",
       "      <td>...</td>\n",
       "    </tr>\n",
       "    <tr>\n",
       "      <th>1982</th>\n",
       "      <th>july</th>\n",
       "      <td>17.0</td>\n",
       "    </tr>\n",
       "    <tr>\n",
       "      <th>1984</th>\n",
       "      <th>july</th>\n",
       "      <td>17.0</td>\n",
       "    </tr>\n",
       "    <tr>\n",
       "      <th>1982</th>\n",
       "      <th>june</th>\n",
       "      <td>16.9</td>\n",
       "    </tr>\n",
       "    <tr>\n",
       "      <th rowspan=\"2\" valign=\"top\">1986</th>\n",
       "      <th>june</th>\n",
       "      <td>16.8</td>\n",
       "    </tr>\n",
       "    <tr>\n",
       "      <th>july</th>\n",
       "      <td>16.4</td>\n",
       "    </tr>\n",
       "  </tbody>\n",
       "</table>\n",
       "<p>120 rows × 1 columns</p>\n",
       "</div>"
      ],
      "text/plain": [
       "               max_temp\n",
       "year month             \n",
       "1982 january       43.3\n",
       "1983 febraury      43.2\n",
       "1985 january       42.2\n",
       "1981 january       41.8\n",
       "1988 january       40.4\n",
       "...                 ...\n",
       "1982 july          17.0\n",
       "1984 july          17.0\n",
       "1982 june          16.9\n",
       "1986 june          16.8\n",
       "     july          16.4\n",
       "\n",
       "[120 rows x 1 columns]"
      ]
     },
     "execution_count": 20,
     "metadata": {},
     "output_type": "execute_result"
    }
   ],
   "source": [
    "max_temp_by_year_and_month"
   ]
  },
  {
   "cell_type": "code",
   "execution_count": 27,
   "id": "6f787dca-351f-402e-a6ea-5a91103136ef",
   "metadata": {},
   "outputs": [
    {
     "data": {
      "image/png": "[encoded data removed]",
      "text/plain": [
       "<Figure size 1000x800 with 1 Axes>"
      ]
     },
     "metadata": {},
     "output_type": "display_data"
    }
   ],
   "source": [
    "# Outliers\n",
    "# Visualize Outlier Analysis of many columns at once\n",
    "#attributes = ['Amount','Frequency','Recency']\n",
    "\n",
    "plt.rcParams['figure.figsize'] = [10,8]\n",
    "sns.boxplot(data = df['min_temp'], orient=\"v\",  color=\"lightblue\",\n",
    "whis=1.5, saturation=1, width=0.7)\n",
    "plt.title(\"Outliers Variable Distribution\", fontsize = 14, fontweight = 'bold')\n",
    "plt.ylabel(\"Range\", fontweight = 'bold')\n",
    "plt.xlabel(\"Attributes\", fontweight = 'bold');"
   ]
  },
  {
   "cell_type": "code",
   "execution_count": 28,
   "id": "5f28f084-4a97-4c45-a462-c980d3c0996d",
   "metadata": {},
   "outputs": [
    {
     "data": {
      "image/png": "[encoded data removed]",
      "text/plain": [
       "<Figure size 1000x800 with 1 Axes>"
      ]
     },
     "metadata": {},
     "output_type": "display_data"
    }
   ],
   "source": [
    "# Outliers\n",
    "# Visualize Outlier Analysis of many columns at once\n",
    "#attributes = ['Amount','Frequency','Recency']\n",
    "\n",
    "plt.rcParams['figure.figsize'] = [10,8]\n",
    "sns.boxplot(data = df['max_temp'], orient=\"v\",  color=\"lightblue\",\n",
    "whis=1.5, saturation=1, width=0.7)\n",
    "plt.title(\"Outliers Variable Distribution\", fontsize = 14, fontweight = 'bold')\n",
    "plt.ylabel(\"Range\", fontweight = 'bold')\n",
    "plt.xlabel(\"Attributes\", fontweight = 'bold');"
   ]
  },
  {
   "cell_type": "code",
   "execution_count": 26,
   "id": "88895f30-de81-4a8c-8c73-36868f9bef98",
   "metadata": {},
   "outputs": [
    {
     "name": "stdout",
     "output_type": "stream",
     "text": [
      "Shape (3470, 5) with Outliers\n",
      "Shape (3470, 5) without Outliers\n"
     ]
    }
   ],
   "source": [
    "# Removing (statistical) outliers for any column one by one\n",
    "Q1 = df.min_temp.quantile(0.25)\n",
    "Q3 = df.min_temp.quantile(0.75)\n",
    "IQR = Q3 - Q1\n",
    "print(f\"Shape {df.shape} with Outliers\")\n",
    "df = df[(df.min_temp >= Q1 - 1.5 * IQR) & (df.min_temp <= Q3 + 1.5 * IQR)]\n",
    "\n",
    "# Removing (statistical) outliers for any column one by one\n",
    "Q1 = df.max_temp.quantile(0.25)\n",
    "Q3 = df.max_temp.quantile(0.75)\n",
    "IQR = Q3 - Q1\n",
    "df = df[(df.max_temp >= Q1 - 1.5 * IQR) & (df.max_temp <= Q3 + 1.5 * IQR)]\n",
    "print(f\"Shape {df.shape} without Outliers\")  "
   ]
  },
  {
   "cell_type": "code",
   "execution_count": 29,
   "id": "edf2851d-6efe-48b0-8955-f00476c675a3",
   "metadata": {},
   "outputs": [
    {
     "data": {
      "image/png": "[encoded data removed]",
      "text/plain": [
       "<Figure size 1000x600 with 1 Axes>"
      ]
     },
     "metadata": {},
     "output_type": "display_data"
    }
   ],
   "source": [
    "# Method 1: Using pandas groupby (recommended)\n",
    "plt.figure(figsize=(10, 6))\n",
    "data_grouped = [df[df['month'] == size]['min_temp'] for size in df['month'].unique()]\n",
    "plt.boxplot(data_grouped, tick_labels=df['month'].unique(), patch_artist=True)\n",
    "plt.title('Distribution of Min Temperature by Month')\n",
    "plt.xlabel('Month')\n",
    "plt.ylabel('Minimium Temperature')\n",
    "plt.xticks(rotation=90)\n",
    "plt.show()   "
   ]
  },
  {
   "cell_type": "code",
   "execution_count": 30,
   "id": "bdd1b94e-51db-428b-a902-5a9d090f8358",
   "metadata": {},
   "outputs": [
    {
     "data": {
      "image/png": "[encoded data removed]",
      "text/plain": [
       "<Figure size 1000x600 with 1 Axes>"
      ]
     },
     "metadata": {},
     "output_type": "display_data"
    }
   ],
   "source": [
    "# Method 1: Using pandas groupby (recommended)\n",
    "plt.figure(figsize=(10, 6))\n",
    "data_grouped = [df[df['month'] == size]['max_temp'] for size in df['month'].unique()]\n",
    "plt.boxplot(data_grouped, tick_labels=df['month'].unique(), patch_artist=True)\n",
    "plt.title('Distribution of Max Temperature by Month')\n",
    "plt.xlabel('Month')\n",
    "plt.ylabel('Maximium Temperature')\n",
    "plt.xticks(rotation=90)\n",
    "plt.show()   "
   ]
  },
  {
   "cell_type": "code",
   "execution_count": 31,
   "id": "a099f45f-8cc1-47fc-bb8f-57c97ef8802f",
   "metadata": {},
   "outputs": [],
   "source": [
    "min_temp_by_year_and_month.reset_index(inplace=True)\n",
    "max_temp_by_year_and_month.reset_index(inplace=True)"
   ]
  },
  {
   "cell_type": "code",
   "execution_count": 32,
   "id": "49880589-949f-4812-8a8b-13dd6d4ac649",
   "metadata": {},
   "outputs": [
    {
     "data": {
      "text/html": [
       "<div>\n",
       "<style scoped>\n",
       "    .dataframe tbody tr th:only-of-type {\n",
       "        vertical-align: middle;\n",
       "    }\n",
       "\n",
       "    .dataframe tbody tr th {\n",
       "        vertical-align: top;\n",
       "    }\n",
       "\n",
       "    .dataframe thead th {\n",
       "        text-align: right;\n",
       "    }\n",
       "</style>\n",
       "<table border=\"1\" class=\"dataframe\">\n",
       "  <thead>\n",
       "    <tr style=\"text-align: right;\">\n",
       "      <th></th>\n",
       "      <th>year</th>\n",
       "      <th>month</th>\n",
       "      <th>day</th>\n",
       "      <th>min_temp</th>\n",
       "      <th>max_temp</th>\n",
       "    </tr>\n",
       "  </thead>\n",
       "  <tbody>\n",
       "    <tr>\n",
       "      <th>1</th>\n",
       "      <td>1981</td>\n",
       "      <td>january</td>\n",
       "      <td>2</td>\n",
       "      <td>17.9</td>\n",
       "      <td>32.4</td>\n",
       "    </tr>\n",
       "    <tr>\n",
       "      <th>3</th>\n",
       "      <td>1981</td>\n",
       "      <td>january</td>\n",
       "      <td>4</td>\n",
       "      <td>14.6</td>\n",
       "      <td>20.7</td>\n",
       "    </tr>\n",
       "    <tr>\n",
       "      <th>4</th>\n",
       "      <td>1981</td>\n",
       "      <td>january</td>\n",
       "      <td>5</td>\n",
       "      <td>15.8</td>\n",
       "      <td>21.5</td>\n",
       "    </tr>\n",
       "    <tr>\n",
       "      <th>5</th>\n",
       "      <td>1981</td>\n",
       "      <td>january</td>\n",
       "      <td>6</td>\n",
       "      <td>15.8</td>\n",
       "      <td>23.1</td>\n",
       "    </tr>\n",
       "    <tr>\n",
       "      <th>6</th>\n",
       "      <td>1981</td>\n",
       "      <td>january</td>\n",
       "      <td>7</td>\n",
       "      <td>15.8</td>\n",
       "      <td>29.7</td>\n",
       "    </tr>\n",
       "    <tr>\n",
       "      <th>...</th>\n",
       "      <td>...</td>\n",
       "      <td>...</td>\n",
       "      <td>...</td>\n",
       "      <td>...</td>\n",
       "      <td>...</td>\n",
       "    </tr>\n",
       "    <tr>\n",
       "      <th>3644</th>\n",
       "      <td>1990</td>\n",
       "      <td>december</td>\n",
       "      <td>26</td>\n",
       "      <td>14.6</td>\n",
       "      <td>20.9</td>\n",
       "    </tr>\n",
       "    <tr>\n",
       "      <th>3646</th>\n",
       "      <td>1990</td>\n",
       "      <td>december</td>\n",
       "      <td>28</td>\n",
       "      <td>13.6</td>\n",
       "      <td>23.2</td>\n",
       "    </tr>\n",
       "    <tr>\n",
       "      <th>3647</th>\n",
       "      <td>1990</td>\n",
       "      <td>december</td>\n",
       "      <td>29</td>\n",
       "      <td>13.5</td>\n",
       "      <td>25.1</td>\n",
       "    </tr>\n",
       "    <tr>\n",
       "      <th>3648</th>\n",
       "      <td>1990</td>\n",
       "      <td>december</td>\n",
       "      <td>30</td>\n",
       "      <td>15.7</td>\n",
       "      <td>24.4</td>\n",
       "    </tr>\n",
       "    <tr>\n",
       "      <th>3649</th>\n",
       "      <td>1990</td>\n",
       "      <td>december</td>\n",
       "      <td>31</td>\n",
       "      <td>13.0</td>\n",
       "      <td>24.6</td>\n",
       "    </tr>\n",
       "  </tbody>\n",
       "</table>\n",
       "<p>3470 rows × 5 columns</p>\n",
       "</div>"
      ],
      "text/plain": [
       "      year     month  day  min_temp  max_temp\n",
       "1     1981   january    2      17.9      32.4\n",
       "3     1981   january    4      14.6      20.7\n",
       "4     1981   january    5      15.8      21.5\n",
       "5     1981   january    6      15.8      23.1\n",
       "6     1981   january    7      15.8      29.7\n",
       "...    ...       ...  ...       ...       ...\n",
       "3644  1990  december   26      14.6      20.9\n",
       "3646  1990  december   28      13.6      23.2\n",
       "3647  1990  december   29      13.5      25.1\n",
       "3648  1990  december   30      15.7      24.4\n",
       "3649  1990  december   31      13.0      24.6\n",
       "\n",
       "[3470 rows x 5 columns]"
      ]
     },
     "execution_count": 32,
     "metadata": {},
     "output_type": "execute_result"
    }
   ],
   "source": [
    "df"
   ]
  },
  {
   "cell_type": "code",
   "execution_count": null,
   "id": "d9298489-7c8d-4887-82f3-c5241d7e25bd",
   "metadata": {},
   "outputs": [],
   "source": []
  }
 ],
 "metadata": {
  "kernelspec": {
   "display_name": "Python 3 (ipykernel)",
   "language": "python",
   "name": "python3"
  },
  "language_info": {
   "codemirror_mode": {
    "name": "ipython",
    "version": 3
   },
   "file_extension": ".py",
   "mimetype": "text/x-python",
   "name": "python",
   "nbconvert_exporter": "python",
   "pygments_lexer": "ipython3",
   "version": "3.9.13"
  }
 },
 "nbformat": 4,
 "nbformat_minor": 5
}
